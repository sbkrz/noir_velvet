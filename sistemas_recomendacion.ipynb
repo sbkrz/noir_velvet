{
 "cells": [
  {
   "cell_type": "code",
   "execution_count": 44,
   "metadata": {},
   "outputs": [],
   "source": [
    "import pandas as pd\n",
    "from typing import List\n",
    "import numpy as np\n",
    "import nltk\n",
    "from nltk.corpus import stopwords\n",
    "from nltk.tokenize import word_tokenize\n",
    "from sklearn.feature_extraction.text import TfidfVectorizer\n",
    "from sklearn.metrics.pairwise import cosine_similarity\n",
    "from nltk.stem import WordNetLemmatizer"
   ]
  },
  {
   "cell_type": "code",
   "execution_count": 45,
   "metadata": {},
   "outputs": [
    {
     "name": "stderr",
     "output_type": "stream",
     "text": [
      "[nltk_data] Downloading package punkt to\n",
      "[nltk_data]     C:\\Users\\sabkr\\AppData\\Roaming\\nltk_data...\n",
      "[nltk_data]   Package punkt is already up-to-date!\n",
      "[nltk_data] Downloading package stopwords to\n",
      "[nltk_data]     C:\\Users\\sabkr\\AppData\\Roaming\\nltk_data...\n",
      "[nltk_data]   Package stopwords is already up-to-date!\n",
      "[nltk_data] Downloading package wordnet to\n",
      "[nltk_data]     C:\\Users\\sabkr\\AppData\\Roaming\\nltk_data...\n"
     ]
    },
    {
     "data": {
      "text/plain": [
       "True"
      ]
     },
     "execution_count": 45,
     "metadata": {},
     "output_type": "execute_result"
    }
   ],
   "source": [
    "nltk.download('punkt')\n",
    "nltk.download('stopwords')\n",
    "nltk.download('wordnet')"
   ]
  },
  {
   "cell_type": "code",
   "execution_count": 3,
   "metadata": {},
   "outputs": [],
   "source": [
    "ventas = pd.read_csv('./ventas.csv')\n",
    "productos = pd.read_csv('./productos.csv')\n",
    "clientes = pd.read_csv('./clientes.csv')\n",
    "categorias = pd.read_csv('./categorias.csv')"
   ]
  },
  {
   "cell_type": "markdown",
   "metadata": {},
   "source": [
    "A continuación, procedemos con el primer modelo solicitado por nuestro cliente, un sistema de recomendación basado en compras anteriores de clientes que no han vuelto a comprar."
   ]
  },
  {
   "cell_type": "code",
   "execution_count": 9,
   "metadata": {},
   "outputs": [],
   "source": [
    "clientes_unicos = ventas.groupby('email')['fecha'].max().reset_index()"
   ]
  },
  {
   "cell_type": "code",
   "execution_count": 10,
   "metadata": {},
   "outputs": [],
   "source": [
    "clientes_unicos = clientes_unicos[clientes_unicos['fecha'] < '2024-06-01']"
   ]
  },
  {
   "cell_type": "code",
   "execution_count": 12,
   "metadata": {},
   "outputs": [],
   "source": [
    "compras_pasadas = ventas[ventas['email'].isin(clientes_unicos['email'])]"
   ]
  },
  {
   "cell_type": "code",
   "execution_count": 15,
   "metadata": {},
   "outputs": [],
   "source": [
    "stop_words = set(stopwords.words('english'))"
   ]
  },
  {
   "cell_type": "code",
   "execution_count": 16,
   "metadata": {},
   "outputs": [],
   "source": [
    "def preprocess_text(text):\n",
    "    tokens = word_tokenize(text.lower()) \n",
    "    tokens = [word for word in tokens if word.isalpha()] \n",
    "    tokens = [word for word in tokens if word not in stop_words] \n",
    "    return ' '.join(tokens)"
   ]
  },
  {
   "cell_type": "code",
   "execution_count": 18,
   "metadata": {},
   "outputs": [],
   "source": [
    "productos['descripcion_preprocesada'] = productos['nombre'].apply(preprocess_text)"
   ]
  },
  {
   "cell_type": "code",
   "execution_count": 21,
   "metadata": {},
   "outputs": [],
   "source": [
    "vectorizer = TfidfVectorizer() #Vectorización\n",
    "tfidf_matrix = vectorizer.fit_transform(productos['descripcion_preprocesada']) "
   ]
  },
  {
   "cell_type": "code",
   "execution_count": 22,
   "metadata": {},
   "outputs": [],
   "source": [
    "similaridades = cosine_similarity(tfidf_matrix) #Calcular la similitud del coseno entre productos"
   ]
  },
  {
   "cell_type": "code",
   "execution_count": 23,
   "metadata": {},
   "outputs": [],
   "source": [
    "df_similaridades = pd.DataFrame(similaridades, index=productos['id_producto'], columns=productos['id_producto']) #DF de similitudes"
   ]
  },
  {
   "cell_type": "code",
   "execution_count": 27,
   "metadata": {},
   "outputs": [],
   "source": [
    "def recomendar_productos(cliente_email, num_recomendaciones=5): #Función para obtener los productos recomendado para X cliente\n",
    "    productos_comprados = compras_pasadas[compras_pasadas['email'] == cliente_email]['id_producto'].values #Obtener productos que el cliente ya compró\n",
    "    recomendaciones = pd.Series(dtype=float) #Calcular similitudes con los productos que NO compró\n",
    "    for producto in productos_comprados:\n",
    "        recomendaciones = recomendaciones.add(df_similaridades[producto], fill_value=0)\n",
    "        recomendaciones = recomendaciones.drop(productos_comprados).sort_values(ascending=False).head(num_recomendaciones) #Eliminar los productos que ya compró y ordenar por similitud\n",
    "        return productos.loc[productos['id_producto'].isin(recomendaciones.index), ['nombre', 'precio']]\n",
    "    "
   ]
  },
  {
   "cell_type": "code",
   "execution_count": 29,
   "metadata": {},
   "outputs": [
    {
     "data": {
      "text/html": [
       "<div>\n",
       "<style scoped>\n",
       "    .dataframe tbody tr th:only-of-type {\n",
       "        vertical-align: middle;\n",
       "    }\n",
       "\n",
       "    .dataframe tbody tr th {\n",
       "        vertical-align: top;\n",
       "    }\n",
       "\n",
       "    .dataframe thead th {\n",
       "        text-align: right;\n",
       "    }\n",
       "</style>\n",
       "<table border=\"1\" class=\"dataframe\">\n",
       "  <thead>\n",
       "    <tr style=\"text-align: right;\">\n",
       "      <th></th>\n",
       "      <th>nombre</th>\n",
       "      <th>precio</th>\n",
       "    </tr>\n",
       "  </thead>\n",
       "  <tbody>\n",
       "    <tr>\n",
       "      <th>6</th>\n",
       "      <td>Gothic Lace Dress</td>\n",
       "      <td>42.99</td>\n",
       "    </tr>\n",
       "    <tr>\n",
       "      <th>64</th>\n",
       "      <td>Floral Print Dress</td>\n",
       "      <td>25.50</td>\n",
       "    </tr>\n",
       "    <tr>\n",
       "      <th>74</th>\n",
       "      <td>Cute Summer Dress</td>\n",
       "      <td>9.99</td>\n",
       "    </tr>\n",
       "    <tr>\n",
       "      <th>109</th>\n",
       "      <td>Y2K Sequin Dress</td>\n",
       "      <td>39.99</td>\n",
       "    </tr>\n",
       "    <tr>\n",
       "      <th>111</th>\n",
       "      <td>Black Gothic Dress</td>\n",
       "      <td>28.99</td>\n",
       "    </tr>\n",
       "  </tbody>\n",
       "</table>\n",
       "</div>"
      ],
      "text/plain": [
       "                 nombre  precio\n",
       "6     Gothic Lace Dress   42.99\n",
       "64   Floral Print Dress   25.50\n",
       "74    Cute Summer Dress    9.99\n",
       "109    Y2K Sequin Dress   39.99\n",
       "111  Black Gothic Dress   28.99"
      ]
     },
     "execution_count": 29,
     "metadata": {},
     "output_type": "execute_result"
    }
   ],
   "source": [
    "recomendar_productos('agustinalopez@gmail.com')"
   ]
  },
  {
   "cell_type": "code",
   "execution_count": 31,
   "metadata": {},
   "outputs": [
    {
     "data": {
      "text/html": [
       "<div>\n",
       "<style scoped>\n",
       "    .dataframe tbody tr th:only-of-type {\n",
       "        vertical-align: middle;\n",
       "    }\n",
       "\n",
       "    .dataframe tbody tr th {\n",
       "        vertical-align: top;\n",
       "    }\n",
       "\n",
       "    .dataframe thead th {\n",
       "        text-align: right;\n",
       "    }\n",
       "</style>\n",
       "<table border=\"1\" class=\"dataframe\">\n",
       "  <thead>\n",
       "    <tr style=\"text-align: right;\">\n",
       "      <th></th>\n",
       "      <th>nombre</th>\n",
       "      <th>precio</th>\n",
       "    </tr>\n",
       "  </thead>\n",
       "  <tbody>\n",
       "    <tr>\n",
       "      <th>0</th>\n",
       "      <td>Kuromi Y2K Top</td>\n",
       "      <td>14.99</td>\n",
       "    </tr>\n",
       "    <tr>\n",
       "      <th>147</th>\n",
       "      <td>Kuromi Plush Doll</td>\n",
       "      <td>24.99</td>\n",
       "    </tr>\n",
       "    <tr>\n",
       "      <th>155</th>\n",
       "      <td>Chococat Wallet</td>\n",
       "      <td>29.99</td>\n",
       "    </tr>\n",
       "    <tr>\n",
       "      <th>156</th>\n",
       "      <td>Kuromi Crossbody Bag</td>\n",
       "      <td>35.99</td>\n",
       "    </tr>\n",
       "    <tr>\n",
       "      <th>170</th>\n",
       "      <td>Kuromi Sweatshirt</td>\n",
       "      <td>39.99</td>\n",
       "    </tr>\n",
       "  </tbody>\n",
       "</table>\n",
       "</div>"
      ],
      "text/plain": [
       "                   nombre  precio\n",
       "0          Kuromi Y2K Top   14.99\n",
       "147     Kuromi Plush Doll   24.99\n",
       "155       Chococat Wallet   29.99\n",
       "156  Kuromi Crossbody Bag   35.99\n",
       "170     Kuromi Sweatshirt   39.99"
      ]
     },
     "execution_count": 31,
     "metadata": {},
     "output_type": "execute_result"
    }
   ],
   "source": [
    "recomendar_productos('agustindiaz@gmail.com')"
   ]
  },
  {
   "cell_type": "markdown",
   "metadata": {},
   "source": [
    "A continuación, implementaremos el sistema de recomendación para clientes nuevos, basándonos en los productos más populares de la tienda:"
   ]
  },
  {
   "cell_type": "code",
   "execution_count": 38,
   "metadata": {},
   "outputs": [],
   "source": [
    "#Comenzamos por identificar los productos más vendidos\n",
    "productos_populares = ventas.groupby('id_producto')['id_venta'].count().reset_index()\n",
    "productos_populares = productos_populares.rename(columns={'id_venta': 'ventas_totales'})\n",
    "productos_populares = productos_populares.sort_values(by='ventas_totales', ascending=False)"
   ]
  },
  {
   "cell_type": "code",
   "execution_count": 39,
   "metadata": {},
   "outputs": [],
   "source": [
    "productos_populares = productos_populares.merge(productos, on='id_producto', how='left') #Unimos esta información al dataset original"
   ]
  },
  {
   "cell_type": "code",
   "execution_count": 58,
   "metadata": {},
   "outputs": [],
   "source": [
    "def recomendar_productos_populares(num_recomendaciones=5): #Función para recomendar los productos más populares\n",
    "    recomendaciones = productos_populares.head(num_recomendaciones)\n",
    "    return recomendaciones[['nombre', 'precio', 'ventas_totales']]"
   ]
  },
  {
   "cell_type": "code",
   "execution_count": 59,
   "metadata": {},
   "outputs": [
    {
     "name": "stdout",
     "output_type": "stream",
     "text": [
      "                nombre  precio  ventas_totales\n",
      "0  Gothic Lolita Dress  109.99              11\n",
      "1    Kuromi Sweatshirt   39.99               7\n",
      "2    Sanrio Phone Case   16.99               7\n",
      "3       Kuromi Y2K Top   14.99               6\n",
      "4   Black Combat Boots  120.00               6\n"
     ]
    }
   ],
   "source": [
    "print(recomendar_productos_populares(5))"
   ]
  },
  {
   "cell_type": "markdown",
   "metadata": {},
   "source": [
    "Con esto, Noir ya tiene una noción de en qué productos le conviene seguir invirtiendo, y qué productos quizás sea mejor descontinuar, ya que generan poca o nula ganancia. Además, los clientes nuevos y los clientes perdidos, tienen mayor facilidad para comprar gracias a los sistemas de recomendación."
   ]
  }
 ],
 "metadata": {
  "kernelspec": {
   "display_name": "Python 3",
   "language": "python",
   "name": "python3"
  },
  "language_info": {
   "codemirror_mode": {
    "name": "ipython",
    "version": 3
   },
   "file_extension": ".py",
   "mimetype": "text/x-python",
   "name": "python",
   "nbconvert_exporter": "python",
   "pygments_lexer": "ipython3",
   "version": "3.12.1"
  }
 },
 "nbformat": 4,
 "nbformat_minor": 2
}
